{
 "cells": [
  {
   "cell_type": "code",
   "execution_count": 1,
   "metadata": {},
   "outputs": [],
   "source": [
    "'''\n",
    "This notebook is used to create the final expenses dataset, it uses the following steps:\n",
    "1. Load the cleaned expenses dataset\n",
    "2. Download the BERT model that is a sentence-transformer model\n",
    "3. Create the embeddings for the expenses dataset\n",
    "4. Split the data into train and test\n",
    "5. Create embeddings with the BERT model for the train data\n",
    "6. Using cosine similarity, find the most similar description for each expense in the train data against the test data\n",
    "7. Merge the train and test data\n",
    "8. Fix some of the categories if possible\n",
    "'''\n",
    "\n",
    "from sentence_transformers import SentenceTransformer\n",
    "model = SentenceTransformer('paraphrase-mpnet-base-v2') "
   ]
  },
  {
   "cell_type": "code",
   "execution_count": 2,
   "metadata": {},
   "outputs": [
    {
     "name": "stderr",
     "output_type": "stream",
     "text": [
      "[nltk_data] Downloading package punkt to\n",
      "[nltk_data]     /Users/vedaantibaliga/nltk_data...\n",
      "[nltk_data]   Package punkt is already up-to-date!\n"
     ]
    }
   ],
   "source": [
    "import pandas as pd\n",
    "import numpy as np\n",
    "from collections import Counter\n",
    "import re\n",
    "\n",
    "# Make all categories using BERT\n",
    "import nltk\n",
    "nltk.download('punkt')\n",
    "from nltk.tokenize import word_tokenize\n",
    "\n",
    "#for plotting expense categories later\n",
    "import matplotlib.pyplot as plt \n",
    "plt.style.use('ggplot')\n",
    "import seaborn as sns\n",
    "import matplotlib\n",
    "import matplotlib.ticker as ticker # for formatting major units on x-y axis\n",
    "\n",
    "\n",
    "\n",
    "#for finding most similar text vectors\n",
    "from sklearn.metrics.pairwise import cosine_similarity"
   ]
  },
  {
   "cell_type": "code",
   "execution_count": 3,
   "metadata": {},
   "outputs": [],
   "source": [
    "# Get pre-processed data\n",
    "df = pd.read_csv(\"pre_processed_data.csv\")"
   ]
  },
  {
   "cell_type": "code",
   "execution_count": 4,
   "metadata": {},
   "outputs": [],
   "source": [
    "# Make training data for BERT, if 'Transaction Category' is not null then it is a training example\n",
    "df_train = df[df['Transaction Category'].notnull()]\n",
    "df_test = df[df['Transaction Category'].isnull()]"
   ]
  },
  {
   "cell_type": "code",
   "execution_count": 29,
   "metadata": {},
   "outputs": [
    {
     "data": {
      "image/png": "[encoded data removed]",
      "text/plain": [
       "<Figure size 640x480 with 1 Axes>"
      ]
     },
     "metadata": {},
     "output_type": "display_data"
    }
   ],
   "source": [
    "def plot_top_words(text, top_n=20):\n",
    "    top_20 = Counter(\" \".join(text).split()).most_common(20)\n",
    "    x,y = zip(*top_20)\n",
    "    sns.barplot(x=list(y),y=list(x))\n",
    "\n",
    "plot_top_words(df_test['Description'])"
   ]
  },
  {
   "cell_type": "code",
   "execution_count": 5,
   "metadata": {},
   "outputs": [
    {
     "data": {
      "text/plain": [
       "Shopping & Groceries    347\n",
       "Food & Dining            80\n",
       "Transportation           44\n",
       "Tuition & Rent           21\n",
       "Laundry                  21\n",
       "Recreation                3\n",
       "Miscellaneous             1\n",
       "Name: Transaction Category, dtype: int64"
      ]
     },
     "execution_count": 5,
     "metadata": {},
     "output_type": "execute_result"
    }
   ],
   "source": [
    "df_train['Transaction Category'].value_counts()"
   ]
  },
  {
   "cell_type": "code",
   "execution_count": 6,
   "metadata": {},
   "outputs": [
    {
     "data": {
      "application/vnd.jupyter.widget-view+json": {
       "model_id": "294536807049420a8f739d4c156f540e",
       "version_major": 2,
       "version_minor": 0
      },
      "text/plain": [
       "Batches:   0%|          | 0/17 [00:00<?, ?it/s]"
      ]
     },
     "metadata": {},
     "output_type": "display_data"
    }
   ],
   "source": [
    "### Download pre-trained BERT model\n",
    "\n",
    "bert_input = df_train['Description'].tolist()\n",
    "embeddings = model.encode(bert_input, show_progress_bar = True)\n",
    "embedding_BERT = np.array(embeddings)"
   ]
  },
  {
   "cell_type": "code",
   "execution_count": 7,
   "metadata": {},
   "outputs": [
    {
     "data": {
      "text/html": [
       "<div>\n",
       "<style scoped>\n",
       "    .dataframe tbody tr th:only-of-type {\n",
       "        vertical-align: middle;\n",
       "    }\n",
       "\n",
       "    .dataframe tbody tr th {\n",
       "        vertical-align: top;\n",
       "    }\n",
       "\n",
       "    .dataframe thead th {\n",
       "        text-align: right;\n",
       "    }\n",
       "</style>\n",
       "<table border=\"1\" class=\"dataframe\">\n",
       "  <thead>\n",
       "    <tr style=\"text-align: right;\">\n",
       "      <th></th>\n",
       "      <th>0</th>\n",
       "      <th>1</th>\n",
       "      <th>2</th>\n",
       "      <th>3</th>\n",
       "      <th>4</th>\n",
       "      <th>5</th>\n",
       "      <th>6</th>\n",
       "      <th>7</th>\n",
       "      <th>8</th>\n",
       "      <th>9</th>\n",
       "      <th>...</th>\n",
       "      <th>758</th>\n",
       "      <th>759</th>\n",
       "      <th>760</th>\n",
       "      <th>761</th>\n",
       "      <th>762</th>\n",
       "      <th>763</th>\n",
       "      <th>764</th>\n",
       "      <th>765</th>\n",
       "      <th>766</th>\n",
       "      <th>767</th>\n",
       "    </tr>\n",
       "  </thead>\n",
       "  <tbody>\n",
       "    <tr>\n",
       "      <th>0</th>\n",
       "      <td>0.007730</td>\n",
       "      <td>0.038054</td>\n",
       "      <td>-0.003887</td>\n",
       "      <td>-0.019954</td>\n",
       "      <td>0.007670</td>\n",
       "      <td>-0.049701</td>\n",
       "      <td>0.022099</td>\n",
       "      <td>0.002901</td>\n",
       "      <td>0.064461</td>\n",
       "      <td>0.057569</td>\n",
       "      <td>...</td>\n",
       "      <td>0.119259</td>\n",
       "      <td>-0.111363</td>\n",
       "      <td>-0.162326</td>\n",
       "      <td>0.052900</td>\n",
       "      <td>0.000631</td>\n",
       "      <td>0.186841</td>\n",
       "      <td>-0.020295</td>\n",
       "      <td>0.203958</td>\n",
       "      <td>-0.105490</td>\n",
       "      <td>-0.093788</td>\n",
       "    </tr>\n",
       "    <tr>\n",
       "      <th>1</th>\n",
       "      <td>-0.263091</td>\n",
       "      <td>0.194230</td>\n",
       "      <td>-0.021180</td>\n",
       "      <td>0.230724</td>\n",
       "      <td>0.013007</td>\n",
       "      <td>-0.007707</td>\n",
       "      <td>-0.076808</td>\n",
       "      <td>0.095086</td>\n",
       "      <td>-0.254884</td>\n",
       "      <td>0.032480</td>\n",
       "      <td>...</td>\n",
       "      <td>0.152419</td>\n",
       "      <td>-0.098562</td>\n",
       "      <td>0.000696</td>\n",
       "      <td>0.015956</td>\n",
       "      <td>-0.061621</td>\n",
       "      <td>0.075770</td>\n",
       "      <td>-0.036174</td>\n",
       "      <td>0.052006</td>\n",
       "      <td>0.080220</td>\n",
       "      <td>-0.065025</td>\n",
       "    </tr>\n",
       "    <tr>\n",
       "      <th>2</th>\n",
       "      <td>-0.051970</td>\n",
       "      <td>-0.078912</td>\n",
       "      <td>0.000096</td>\n",
       "      <td>0.040493</td>\n",
       "      <td>0.164213</td>\n",
       "      <td>0.070451</td>\n",
       "      <td>0.165698</td>\n",
       "      <td>-0.082789</td>\n",
       "      <td>-0.206253</td>\n",
       "      <td>-0.078708</td>\n",
       "      <td>...</td>\n",
       "      <td>0.014682</td>\n",
       "      <td>-0.021122</td>\n",
       "      <td>-0.175895</td>\n",
       "      <td>-0.028958</td>\n",
       "      <td>-0.020924</td>\n",
       "      <td>0.304364</td>\n",
       "      <td>-0.113344</td>\n",
       "      <td>0.127074</td>\n",
       "      <td>0.037624</td>\n",
       "      <td>-0.024135</td>\n",
       "    </tr>\n",
       "    <tr>\n",
       "      <th>3</th>\n",
       "      <td>0.007730</td>\n",
       "      <td>0.038054</td>\n",
       "      <td>-0.003887</td>\n",
       "      <td>-0.019954</td>\n",
       "      <td>0.007670</td>\n",
       "      <td>-0.049701</td>\n",
       "      <td>0.022099</td>\n",
       "      <td>0.002901</td>\n",
       "      <td>0.064461</td>\n",
       "      <td>0.057569</td>\n",
       "      <td>...</td>\n",
       "      <td>0.119259</td>\n",
       "      <td>-0.111363</td>\n",
       "      <td>-0.162326</td>\n",
       "      <td>0.052900</td>\n",
       "      <td>0.000631</td>\n",
       "      <td>0.186841</td>\n",
       "      <td>-0.020295</td>\n",
       "      <td>0.203958</td>\n",
       "      <td>-0.105490</td>\n",
       "      <td>-0.093788</td>\n",
       "    </tr>\n",
       "    <tr>\n",
       "      <th>4</th>\n",
       "      <td>-0.269139</td>\n",
       "      <td>0.238847</td>\n",
       "      <td>-0.150048</td>\n",
       "      <td>0.214777</td>\n",
       "      <td>0.018937</td>\n",
       "      <td>-0.061374</td>\n",
       "      <td>-0.078618</td>\n",
       "      <td>0.147039</td>\n",
       "      <td>0.113104</td>\n",
       "      <td>0.093514</td>\n",
       "      <td>...</td>\n",
       "      <td>0.099323</td>\n",
       "      <td>-0.073299</td>\n",
       "      <td>-0.138753</td>\n",
       "      <td>0.050173</td>\n",
       "      <td>-0.015268</td>\n",
       "      <td>0.064129</td>\n",
       "      <td>-0.092566</td>\n",
       "      <td>0.092582</td>\n",
       "      <td>0.014063</td>\n",
       "      <td>-0.106882</td>\n",
       "    </tr>\n",
       "  </tbody>\n",
       "</table>\n",
       "<p>5 rows × 768 columns</p>\n",
       "</div>"
      ],
      "text/plain": [
       "        0         1         2         3         4         5         6    \\\n",
       "0  0.007730  0.038054 -0.003887 -0.019954  0.007670 -0.049701  0.022099   \n",
       "1 -0.263091  0.194230 -0.021180  0.230724  0.013007 -0.007707 -0.076808   \n",
       "2 -0.051970 -0.078912  0.000096  0.040493  0.164213  0.070451  0.165698   \n",
       "3  0.007730  0.038054 -0.003887 -0.019954  0.007670 -0.049701  0.022099   \n",
       "4 -0.269139  0.238847 -0.150048  0.214777  0.018937 -0.061374 -0.078618   \n",
       "\n",
       "        7         8         9    ...       758       759       760       761  \\\n",
       "0  0.002901  0.064461  0.057569  ...  0.119259 -0.111363 -0.162326  0.052900   \n",
       "1  0.095086 -0.254884  0.032480  ...  0.152419 -0.098562  0.000696  0.015956   \n",
       "2 -0.082789 -0.206253 -0.078708  ...  0.014682 -0.021122 -0.175895 -0.028958   \n",
       "3  0.002901  0.064461  0.057569  ...  0.119259 -0.111363 -0.162326  0.052900   \n",
       "4  0.147039  0.113104  0.093514  ...  0.099323 -0.073299 -0.138753  0.050173   \n",
       "\n",
       "        762       763       764       765       766       767  \n",
       "0  0.000631  0.186841 -0.020295  0.203958 -0.105490 -0.093788  \n",
       "1 -0.061621  0.075770 -0.036174  0.052006  0.080220 -0.065025  \n",
       "2 -0.020924  0.304364 -0.113344  0.127074  0.037624 -0.024135  \n",
       "3  0.000631  0.186841 -0.020295  0.203958 -0.105490 -0.093788  \n",
       "4 -0.015268  0.064129 -0.092566  0.092582  0.014063 -0.106882  \n",
       "\n",
       "[5 rows x 768 columns]"
      ]
     },
     "execution_count": 7,
     "metadata": {},
     "output_type": "execute_result"
    }
   ],
   "source": [
    "# see what it has produced\n",
    "df_embedding_BERT = pd.DataFrame(embeddings)\n",
    "df_embedding_BERT.head()"
   ]
  },
  {
   "cell_type": "code",
   "execution_count": 8,
   "metadata": {},
   "outputs": [
    {
     "data": {
      "application/vnd.jupyter.widget-view+json": {
       "model_id": "5970811c188f4c4c8cd452538f713cc6",
       "version_major": 2,
       "version_minor": 0
      },
      "text/plain": [
       "Batches:   0%|          | 0/6 [00:00<?, ?it/s]"
      ]
     },
     "metadata": {},
     "output_type": "display_data"
    }
   ],
   "source": [
    "# Apply BERT embedding\n",
    "bert_input_test = df_test['Description'].tolist()\n",
    "embeddings_test = model.encode(bert_input_test, show_progress_bar = True)\n",
    "embedding_BERT_test = np.array(embeddings_test)\n",
    "\n",
    "df_embedding_bert_test = pd.DataFrame(embeddings_test)"
   ]
  },
  {
   "cell_type": "code",
   "execution_count": 9,
   "metadata": {},
   "outputs": [],
   "source": [
    "# Pair test data with most similar training data\n",
    "# Find the most similar word embedding with unseen data in the training data\n",
    "\n",
    "similarity_new_data = cosine_similarity(embedding_BERT_test, embedding_BERT)\n",
    "similarity_df = pd.DataFrame(similarity_new_data)\n",
    "\n",
    "# Returns index for most similar embedding\n",
    "# See first column of the output dataframe below\n",
    "index_similarity = similarity_df.idxmax(axis = 1)\n",
    "\n",
    "# Return dataframe for most similar embedding/transactions in training dataframe\n",
    "data_inspect = df_train.iloc[index_similarity, :].reset_index(drop=True)"
   ]
  },
  {
   "cell_type": "code",
   "execution_count": 10,
   "metadata": {},
   "outputs": [],
   "source": [
    "test_df = df_test['Description'].reset_index()\n",
    "unseen_verbatim = test_df['Description']\n",
    "indexes = test_df['index']\n",
    "matched_verbatim = data_inspect['Description']\n",
    "annotation = data_inspect['Transaction Category']\n",
    "\n",
    "d_output = {\n",
    "            'unseen_transaction': unseen_verbatim,\n",
    "            'matched_transaction': matched_verbatim, \n",
    "            'matched_class': annotation,\n",
    "            'index_for_matched_transaction': indexes\n",
    "            \n",
    "            }"
   ]
  },
  {
   "cell_type": "code",
   "execution_count": 11,
   "metadata": {},
   "outputs": [
    {
     "data": {
      "text/html": [
       "<div>\n",
       "<style scoped>\n",
       "    .dataframe tbody tr th:only-of-type {\n",
       "        vertical-align: middle;\n",
       "    }\n",
       "\n",
       "    .dataframe tbody tr th {\n",
       "        vertical-align: top;\n",
       "    }\n",
       "\n",
       "    .dataframe thead th {\n",
       "        text-align: right;\n",
       "    }\n",
       "</style>\n",
       "<table border=\"1\" class=\"dataframe\">\n",
       "  <thead>\n",
       "    <tr style=\"text-align: right;\">\n",
       "      <th></th>\n",
       "      <th>unseen_transaction</th>\n",
       "      <th>matched_transaction</th>\n",
       "      <th>matched_class</th>\n",
       "      <th>index_for_matched_transaction</th>\n",
       "    </tr>\n",
       "  </thead>\n",
       "  <tbody>\n",
       "    <tr>\n",
       "      <th>0</th>\n",
       "      <td>cmsvendusc grand</td>\n",
       "      <td>ach univ cal  payment  univ cal name</td>\n",
       "      <td>Tuition &amp; Rent</td>\n",
       "      <td>147</td>\n",
       "    </tr>\n",
       "    <tr>\n",
       "      <th>1</th>\n",
       "      <td>cmsvendusc grand</td>\n",
       "      <td>ach univ cal  payment  univ cal name</td>\n",
       "      <td>Tuition &amp; Rent</td>\n",
       "      <td>150</td>\n",
       "    </tr>\n",
       "    <tr>\n",
       "      <th>2</th>\n",
       "      <td>cmsvendusc grand</td>\n",
       "      <td>ach univ cal  payment  univ cal name</td>\n",
       "      <td>Tuition &amp; Rent</td>\n",
       "      <td>151</td>\n",
       "    </tr>\n",
       "    <tr>\n",
       "      <th>3</th>\n",
       "      <td>k speed torrance vermont  torr</td>\n",
       "      <td>venmo shein  parkway</td>\n",
       "      <td>Shopping &amp; Groceries</td>\n",
       "      <td>160</td>\n",
       "    </tr>\n",
       "    <tr>\n",
       "      <th>4</th>\n",
       "      <td>k speed torrance padd vermont</td>\n",
       "      <td>supercuts vermont    c</td>\n",
       "      <td>Recreation</td>\n",
       "      <td>161</td>\n",
       "    </tr>\n",
       "    <tr>\n",
       "      <th>...</th>\n",
       "      <td>...</td>\n",
       "      <td>...</td>\n",
       "      <td>...</td>\n",
       "      <td>...</td>\n",
       "    </tr>\n",
       "    <tr>\n",
       "      <th>164</th>\n",
       "      <td>jh bazaar vermont    c</td>\n",
       "      <td>trader jo trader joes</td>\n",
       "      <td>Shopping &amp; Groceries</td>\n",
       "      <td>681</td>\n",
       "    </tr>\n",
       "    <tr>\n",
       "      <th>165</th>\n",
       "      <td>jh bazaar vermont    c</td>\n",
       "      <td>trader jo trader joes</td>\n",
       "      <td>Shopping &amp; Groceries</td>\n",
       "      <td>682</td>\n",
       "    </tr>\n",
       "    <tr>\n",
       "      <th>166</th>\n",
       "      <td>dollar tr  pico</td>\n",
       "      <td>doordashpapa johns pi  streetsuite</td>\n",
       "      <td>Food &amp; Dining</td>\n",
       "      <td>683</td>\n",
       "    </tr>\n",
       "    <tr>\n",
       "      <th>167</th>\n",
       "      <td>cava grill usc village</td>\n",
       "      <td>chipotle santa monica blv beve</td>\n",
       "      <td>Food &amp; Dining</td>\n",
       "      <td>684</td>\n",
       "    </tr>\n",
       "    <tr>\n",
       "      <th>168</th>\n",
       "      <td>dollar tr venice</td>\n",
       "      <td>venmo  street new york</td>\n",
       "      <td>Shopping &amp; Groceries</td>\n",
       "      <td>685</td>\n",
       "    </tr>\n",
       "  </tbody>\n",
       "</table>\n",
       "<p>169 rows × 4 columns</p>\n",
       "</div>"
      ],
      "text/plain": [
       "                   unseen_transaction                     matched_transaction  \\\n",
       "0                cmsvendusc grand       ach univ cal  payment  univ cal name    \n",
       "1                cmsvendusc grand       ach univ cal  payment  univ cal name    \n",
       "2                cmsvendusc grand       ach univ cal  payment  univ cal name    \n",
       "3     k speed torrance vermont  torr                    venmo shein  parkway    \n",
       "4     k speed torrance padd vermont                   supercuts vermont    c    \n",
       "..                                ...                                     ...   \n",
       "164           jh bazaar vermont    c                 trader jo trader joes      \n",
       "165           jh bazaar vermont    c                 trader jo trader joes      \n",
       "166                dollar tr  pico        doordashpapa johns pi  streetsuite    \n",
       "167         cava grill usc village            chipotle santa monica blv beve    \n",
       "168               dollar tr venice                   venmo  street new york     \n",
       "\n",
       "            matched_class  index_for_matched_transaction  \n",
       "0          Tuition & Rent                            147  \n",
       "1          Tuition & Rent                            150  \n",
       "2          Tuition & Rent                            151  \n",
       "3    Shopping & Groceries                            160  \n",
       "4              Recreation                            161  \n",
       "..                    ...                            ...  \n",
       "164  Shopping & Groceries                            681  \n",
       "165  Shopping & Groceries                            682  \n",
       "166         Food & Dining                            683  \n",
       "167         Food & Dining                            684  \n",
       "168  Shopping & Groceries                            685  \n",
       "\n",
       "[169 rows x 4 columns]"
      ]
     },
     "execution_count": 11,
     "metadata": {},
     "output_type": "execute_result"
    }
   ],
   "source": [
    "result_df = pd.DataFrame(d_output)\n",
    "result_df"
   ]
  },
  {
   "cell_type": "code",
   "execution_count": 12,
   "metadata": {},
   "outputs": [],
   "source": [
    "# join on index to get the category for the test data\n",
    "final_df = df.join(result_df.set_index('index_for_matched_transaction'))\n",
    "final_df.drop(['matched_transaction','unseen_transaction'], axis=1, inplace=True)"
   ]
  },
  {
   "cell_type": "code",
   "execution_count": 13,
   "metadata": {},
   "outputs": [],
   "source": [
    "final_df[\"Transaction Category\"].fillna(final_df[\"matched_class\"], inplace = True)\n",
    "final_df.drop(['matched_class'], axis=1, inplace=True)"
   ]
  },
  {
   "attachments": {},
   "cell_type": "markdown",
   "metadata": {},
   "source": [
    "## Let's check the categories in test data and try to fix them if any"
   ]
  },
  {
   "cell_type": "code",
   "execution_count": 14,
   "metadata": {},
   "outputs": [
    {
     "data": {
      "text/html": [
       "<div>\n",
       "<style scoped>\n",
       "    .dataframe tbody tr th:only-of-type {\n",
       "        vertical-align: middle;\n",
       "    }\n",
       "\n",
       "    .dataframe tbody tr th {\n",
       "        vertical-align: top;\n",
       "    }\n",
       "\n",
       "    .dataframe thead th {\n",
       "        text-align: right;\n",
       "    }\n",
       "</style>\n",
       "<table border=\"1\" class=\"dataframe\">\n",
       "  <thead>\n",
       "    <tr style=\"text-align: right;\">\n",
       "      <th></th>\n",
       "      <th>Posting Date</th>\n",
       "      <th>Transaction Type</th>\n",
       "      <th>Amount</th>\n",
       "      <th>Description</th>\n",
       "      <th>Transaction Category</th>\n",
       "    </tr>\n",
       "  </thead>\n",
       "  <tbody>\n",
       "    <tr>\n",
       "      <th>0</th>\n",
       "      <td>4/25/2023</td>\n",
       "      <td>Debit</td>\n",
       "      <td>-19.00</td>\n",
       "      <td>target  hoove</td>\n",
       "      <td>Shopping &amp; Groceries</td>\n",
       "    </tr>\n",
       "    <tr>\n",
       "      <th>1</th>\n",
       "      <td>4/24/2023</td>\n",
       "      <td>Debit</td>\n",
       "      <td>-29.31</td>\n",
       "      <td>dominos    angel</td>\n",
       "      <td>Food &amp; Dining</td>\n",
       "    </tr>\n",
       "    <tr>\n",
       "      <th>2</th>\n",
       "      <td>4/20/2023</td>\n",
       "      <td>Debit</td>\n",
       "      <td>-6.18</td>\n",
       "      <td>target store</td>\n",
       "      <td>Shopping &amp; Groceries</td>\n",
       "    </tr>\n",
       "    <tr>\n",
       "      <th>3</th>\n",
       "      <td>4/11/2023</td>\n",
       "      <td>Debit</td>\n",
       "      <td>-8.95</td>\n",
       "      <td>target  hoove</td>\n",
       "      <td>Shopping &amp; Groceries</td>\n",
       "    </tr>\n",
       "    <tr>\n",
       "      <th>4</th>\n",
       "      <td>4/11/2023</td>\n",
       "      <td>Debit</td>\n",
       "      <td>-17.49</td>\n",
       "      <td>dominos</td>\n",
       "      <td>Food &amp; Dining</td>\n",
       "    </tr>\n",
       "    <tr>\n",
       "      <th>...</th>\n",
       "      <td>...</td>\n",
       "      <td>...</td>\n",
       "      <td>...</td>\n",
       "      <td>...</td>\n",
       "      <td>...</td>\n",
       "    </tr>\n",
       "    <tr>\n",
       "      <th>681</th>\n",
       "      <td>8/13/2021</td>\n",
       "      <td>Debit</td>\n",
       "      <td>-26.46</td>\n",
       "      <td>jh bazaar vermont    c</td>\n",
       "      <td>Shopping &amp; Groceries</td>\n",
       "    </tr>\n",
       "    <tr>\n",
       "      <th>682</th>\n",
       "      <td>8/13/2021</td>\n",
       "      <td>Debit</td>\n",
       "      <td>-33.94</td>\n",
       "      <td>jh bazaar vermont    c</td>\n",
       "      <td>Shopping &amp; Groceries</td>\n",
       "    </tr>\n",
       "    <tr>\n",
       "      <th>683</th>\n",
       "      <td>8/12/2021</td>\n",
       "      <td>Debit</td>\n",
       "      <td>-18.62</td>\n",
       "      <td>dollar tr  pico</td>\n",
       "      <td>Food &amp; Dining</td>\n",
       "    </tr>\n",
       "    <tr>\n",
       "      <th>684</th>\n",
       "      <td>8/12/2021</td>\n",
       "      <td>Debit</td>\n",
       "      <td>-11.68</td>\n",
       "      <td>cava grill usc village</td>\n",
       "      <td>Food &amp; Dining</td>\n",
       "    </tr>\n",
       "    <tr>\n",
       "      <th>685</th>\n",
       "      <td>8/11/2021</td>\n",
       "      <td>Debit</td>\n",
       "      <td>-67.89</td>\n",
       "      <td>dollar tr venice</td>\n",
       "      <td>Shopping &amp; Groceries</td>\n",
       "    </tr>\n",
       "  </tbody>\n",
       "</table>\n",
       "<p>686 rows × 5 columns</p>\n",
       "</div>"
      ],
      "text/plain": [
       "    Posting Date Transaction Type  Amount                 Description  \\\n",
       "0      4/25/2023            Debit  -19.00            target  hoove      \n",
       "1      4/24/2023            Debit  -29.31           dominos    angel    \n",
       "2      4/20/2023            Debit   -6.18          target store         \n",
       "3      4/11/2023            Debit   -8.95            target  hoove      \n",
       "4      4/11/2023            Debit  -17.49                  dominos      \n",
       "..           ...              ...     ...                         ...   \n",
       "681    8/13/2021            Debit  -26.46     jh bazaar vermont    c    \n",
       "682    8/13/2021            Debit  -33.94     jh bazaar vermont    c    \n",
       "683    8/12/2021            Debit  -18.62          dollar tr  pico      \n",
       "684    8/12/2021            Debit  -11.68   cava grill usc village      \n",
       "685    8/11/2021            Debit  -67.89         dollar tr venice      \n",
       "\n",
       "     Transaction Category  \n",
       "0    Shopping & Groceries  \n",
       "1           Food & Dining  \n",
       "2    Shopping & Groceries  \n",
       "3    Shopping & Groceries  \n",
       "4           Food & Dining  \n",
       "..                    ...  \n",
       "681  Shopping & Groceries  \n",
       "682  Shopping & Groceries  \n",
       "683         Food & Dining  \n",
       "684         Food & Dining  \n",
       "685  Shopping & Groceries  \n",
       "\n",
       "[686 rows x 5 columns]"
      ]
     },
     "execution_count": 14,
     "metadata": {},
     "output_type": "execute_result"
    }
   ],
   "source": [
    "final_df"
   ]
  },
  {
   "cell_type": "code",
   "execution_count": 15,
   "metadata": {},
   "outputs": [
    {
     "data": {
      "text/plain": [
       "Transaction Category\n",
       "Shopping & Groceries    415\n",
       "Food & Dining           160\n",
       "Transportation           48\n",
       "Tuition & Rent           29\n",
       "Laundry                  27\n",
       "Recreation                5\n",
       "Miscellaneous             2\n",
       "dtype: int64"
      ]
     },
     "execution_count": 15,
     "metadata": {},
     "output_type": "execute_result"
    }
   ],
   "source": [
    "final_df.value_counts('Transaction Category')"
   ]
  },
  {
   "cell_type": "code",
   "execution_count": 16,
   "metadata": {},
   "outputs": [],
   "source": [
    "# Make a function for rechecking if the category is correct\n",
    "def check_if_cat_correct(df,category_name):\n",
    "    return df[df['Transaction Category'] == category_name]['Description'].unique()"
   ]
  },
  {
   "attachments": {},
   "cell_type": "markdown",
   "metadata": {},
   "source": [
    "### Miscellaneous"
   ]
  },
  {
   "cell_type": "code",
   "execution_count": 17,
   "metadata": {},
   "outputs": [
    {
     "data": {
      "text/plain": [
       "array([' fedex airways  memphis ', ' emirates e   fl new york   ticket'],\n",
       "      dtype=object)"
      ]
     },
     "execution_count": 17,
     "metadata": {},
     "output_type": "execute_result"
    }
   ],
   "source": [
    "check_if_cat_correct(final_df,'Miscellaneous')"
   ]
  },
  {
   "attachments": {},
   "cell_type": "markdown",
   "metadata": {},
   "source": [
    "### Recreation"
   ]
  },
  {
   "cell_type": "code",
   "execution_count": 18,
   "metadata": {},
   "outputs": [
    {
     "data": {
      "text/plain": [
       "array([' supercuts vermont    c ',\n",
       "       '   bath body works glendale galleria glendale ',\n",
       "       ' k speed torrance padd vermont  ',\n",
       "       ' k speed torrance supe vermont  '], dtype=object)"
      ]
     },
     "execution_count": 18,
     "metadata": {},
     "output_type": "execute_result"
    }
   ],
   "source": [
    "check_if_cat_correct(final_df,'Recreation')"
   ]
  },
  {
   "attachments": {},
   "cell_type": "markdown",
   "metadata": {},
   "source": [
    "### Laundry"
   ]
  },
  {
   "cell_type": "code",
   "execution_count": 19,
   "metadata": {},
   "outputs": [
    {
     "data": {
      "text/plain": [
       "array([' disneyland tickets harbor  ', ' wash laundry kiosk   torranc ',\n",
       "       ' wash kiosk mobile    dieg ',\n",
       "       ' usc ticket officereta trousdale pkwy ',\n",
       "       ' polo factory store com citadel drive c ',\n",
       "       ' athena parking hill    c ', '   artisan imports  diego   diego ',\n",
       "       ' wash kiosk mobile    diego ',\n",
       "       ' wash kiosk mobile n pacific coast hwy '], dtype=object)"
      ]
     },
     "execution_count": 19,
     "metadata": {},
     "output_type": "execute_result"
    }
   ],
   "source": [
    "check_if_cat_correct(final_df,'Laundry')"
   ]
  },
  {
   "attachments": {},
   "cell_type": "markdown",
   "metadata": {},
   "source": [
    "### Tuition & Rent"
   ]
  },
  {
   "cell_type": "code",
   "execution_count": 20,
   "metadata": {},
   "outputs": [
    {
     "data": {
      "text/plain": [
       "array([' cmsvendusc grand    ', ' ach univ cal  payment  univ cal name ',\n",
       "       ' uscis massachusetts  ',\n",
       "       ' atm atm usc credit union mcclintock    ',\n",
       "       ' overdrawn amount univ cal', ' intl education bristol pkwy ',\n",
       "       ' ach univ cal  payment  univ cal', ' usc student health ser    '],\n",
       "      dtype=object)"
      ]
     },
     "execution_count": 20,
     "metadata": {},
     "output_type": "execute_result"
    }
   ],
   "source": [
    "check_if_cat_correct(final_df,'Tuition & Rent') "
   ]
  },
  {
   "attachments": {},
   "cell_type": "markdown",
   "metadata": {},
   "source": [
    "### Transportation"
   ]
  },
  {
   "cell_type": "code",
   "execution_count": 21,
   "metadata": {},
   "outputs": [
    {
     "data": {
      "text/plain": [
       "array([' venmo uber  parkway ', ' tst thai trio   l ',\n",
       "       ' lyft ride mon berry   ', ' lyft ride market   ',\n",
       "       ' lyft ride berry   ', ' lyft ride tue pm berry   ',\n",
       "       ' lyft ride thu pm berry   ', ' sixt rent car   street  angel ',\n",
       "       ' venmo uber  merchandse mrt pl ', ' lyft rides berry   ',\n",
       "       ' lyft cancel fee berry   ', ' vfs services usa inc wilshire  ',\n",
       "       ' venmo lyft inc  merchandse mrt pl ',\n",
       "       ' lyft lyft rentals berry street  fr ',\n",
       "       ' tst better sex melrose  lo '], dtype=object)"
      ]
     },
     "execution_count": 21,
     "metadata": {},
     "output_type": "execute_result"
    }
   ],
   "source": [
    "check_if_cat_correct(final_df,'Transportation') "
   ]
  },
  {
   "attachments": {},
   "cell_type": "markdown",
   "metadata": {},
   "source": [
    "### Food & Dining"
   ]
  },
  {
   "cell_type": "code",
   "execution_count": 22,
   "metadata": {},
   "outputs": [
    {
     "data": {
      "text/plain": [
       "array([' dominos    angel ', ' dominos   ',\n",
       "       ' starbucks store e colorado  ', ' subway     ',\n",
       "       ' starbucks store   l ', ' chipotle santa monica blv beve ',\n",
       "       ' subway  street  ', ' doordashpapa johns pi  streetsuite ',\n",
       "       ' doordashburger king  streetsuite ', ' chickfila    ',\n",
       "       '  doordash dashmart  street ', '  doordash pandaexpr  street ',\n",
       "       '  doordash californi  street ', ' herff jones   street ',\n",
       "       ' usc trojans housing ap    ', '  doordash kfc  street ',\n",
       "       '  doordash mcdonalds  street ', '  doordash thedollyl  street ',\n",
       "       ' sulekha bch  bldg c ', ' ic   downtow wilshire  l ',\n",
       "       ' ddf dxb  dubai dubai ae ',\n",
       "       ' mcdonaldsdxb airport dubai intl airport ',\n",
       "       ' venmo doordash  parkway ',\n",
       "       ' sp alphaleteus summer park drive sta ',\n",
       "       ' sq rice balls fire ballinger  ', ' tst fratelli cafe melrose   ',\n",
       "       ' northern cafe   str  ', ' link scooters hamilton  cambridge ',\n",
       "       '   circle k   ', '   safety park beach avenue marina del ',\n",
       "       ' blaze pizza  gate alcoa  vern ', ' axscomace hotel   street ',\n",
       "       ' parkwhiz inc jefferson  ', ' usc transportation adm     ',\n",
       "       ' sq gb coffee grand broadway  ', ' sq lucky bird broadway   ',\n",
       "       ' sq angels flight deve  hill stre ',\n",
       "       '   ush sc food carts universal cit ',\n",
       "       '   minions cafe universal cit ',\n",
       "       ' pacpark food bev santa monica pier ',\n",
       "       ' innovative foto industrail way salem nh ',\n",
       "       '  doordash rdstree  street ', '  doordash wingstop  street ',\n",
       "       '  doordash checkosch  street ',\n",
       "       ' sq dulce usc village mcclintock av ',\n",
       "       '  doordash agracafew  street ', '   dollar tr  pico   ',\n",
       "       '   brothers bike shop   ', ' venmo uber eats  merchandse mrt pl ',\n",
       "       '  doordash shakeshac  street ',\n",
       "       ' payupamazo brigade gateway bangal ', ' wingstop    ',\n",
       "       ' usc bookstore childs way   ang ', ' metrolink gateway plz fl   ',\n",
       "       ' tst bottega louie l grand   ', '  doordash carlsjr  street ',\n",
       "       ' north shore cafe po box fawnskin  ',\n",
       "       ' la metro tap web sal gateway plz ms ',\n",
       "       ' counter wilshire wilshire  ',\n",
       "       ' sp chalice inc  arroyo parkwa pas ',\n",
       "       ' sq kinokuniya book   hoo ',\n",
       "       ' usc hospitality retail trousdale pkwy ',\n",
       "       '   la metro jefferson   ', ' blaze pizza    angel ',\n",
       "       ' lucky strike  angel  olympic  ',\n",
       "       'recurring  applecombill one apple park way ',\n",
       "       ' sq honeybird    angel ', ' red restaurant ocean   sa ',\n",
       "       ' sq carlos bakery  santa monica bo ',\n",
       "       ' cheesecake grove grove drive k ', ' pampas grill  rd    ang ',\n",
       "       ' wahlburgers  jefferson   angel ', ' el huero fast food cor   ',\n",
       "       ' pasta roma     ', ' doordashfatburger  streetsuite ',\n",
       "       ' doordashjack b  streetsuite ', ' sq spudnuts donuts    ',\n",
       "       ' sq cup joy    angel ', ' la poke usc llc  jefferson   ',\n",
       "       ' sq california hot chi   ', ' cava grill usc village   '],\n",
       "      dtype=object)"
      ]
     },
     "execution_count": 22,
     "metadata": {},
     "output_type": "execute_result"
    }
   ],
   "source": [
    "check_if_cat_correct(final_df,'Food & Dining') "
   ]
  },
  {
   "attachments": {},
   "cell_type": "markdown",
   "metadata": {},
   "source": [
    "### Shopping & Groceries"
   ]
  },
  {
   "cell_type": "code",
   "execution_count": 23,
   "metadata": {},
   "outputs": [
    {
     "data": {
      "text/plain": [
       "array(['   target  hoove   ', '   target store      ',\n",
       "       ' amazon primehyorl terry  n amz ',\n",
       "       ' amazon primehdsvxc terry  n amz ',\n",
       "       ' amazon primeiulip terry  n amz ',\n",
       "       ' amazon primefkadih terry  n amz ', '   gap outlet us commerce ',\n",
       "       '   walgreens hollywo   ', '   marshalls firestone   gate ',\n",
       "       '   walmart firestone   gate ', '   panda express universal cit ',\n",
       "       ' amazon primeprel terry  n amz ', '   target store     ',\n",
       "       ' amazon primeqhgq terry  n amz ',\n",
       "       ' amazon primeeri terry  n amz ',\n",
       "       'recurring  amazon primeivpma terry  n amz ',\n",
       "       '   target store   unit   ',\n",
       "       ' napa farms market tg sfo intl terarea g ', '   nordstrom  rd   ',\n",
       "       '   target     ', '   trader jo trader joes   ',\n",
       "       ' venmo  street new york  ', ' ralphs vermont   angele ',\n",
       "       ' venmo shein  parkway ', '   amazoncomhjwpwq seattle ',\n",
       "       '   amazoncomhjxibc seattle ', '   amazoncomhjzgn seattle ',\n",
       "       ' k speed torrance vermont  torr ',\n",
       "       ' venmo regal cinemas  parkway ', '   jh bazaar   ',\n",
       "       '   amazoncomhdprt seattle ', ' ralphs vermont  ',\n",
       "       ' venmo  street  ', ' shared branch zelle aditya usc bxcepkd',\n",
       "       ' shared branch zelle aditya usc rbncpkd',\n",
       "       '   amazoncomhrpc seattle ',\n",
       "       '   anjappar chettinad artesi pioneer  artesia ',\n",
       "       '   amazoncomhhmm seattle ', '   ralphs verm   ',\n",
       "       '   amazoncomjolbai seattle ', '   amazoncomxikd seattle ',\n",
       "       '   amazoncomqdfy seattle ',\n",
       "       ' venmo wizyakuza  merchandse mrt pl ',\n",
       "       '   amazoncomgfal seattle ', ' sweetgreen  gran     ',\n",
       "       '   trader joes      ', '   apple stor broadway us   ',\n",
       "       '   amazoncomhwleg seattle ',\n",
       "       ' sq beignet box mobile palm dr calab ',\n",
       "       'recurring  regal cinemas mobile e blount  ',\n",
       "       '   amazoncomkmob seattle ', '   amazoncomkqfgn seattle ',\n",
       "       '   amazoncomebv seattle ', '   amazoncomxslo seattle ',\n",
       "       ' joes auto parks olive   ', ' greenleaf usc  jefferson   ang ',\n",
       "       ' yard house  olympic  ', ' greek theatre n vermont   angel ',\n",
       "       ' rubys diner citadel citadel dr  ',\n",
       "       ' cheesecake onedin n beverly dr ',\n",
       "       ' atm atm usc credit union trousdale parkway   ',\n",
       "       ' sq salt straw  colorado  pasade ',\n",
       "       ' ush parking rc universal city universa ',\n",
       "       ' saritas pupuseria broadway  angel ',\n",
       "       ' ush ticketing ecomm universal city ', '   amazoncommb seattle ',\n",
       "       '   amazoncomfxaqj seattle ',\n",
       "       ' spirit ai executive way miramar fl  ticket',\n",
       "       ' yogurtland    ange ', ' return mail fee',\n",
       "       ' ultacom arbor dr il ', ' american amon carter   ticket',\n",
       "       '   amazoncomjjau seattle ',\n",
       "       ' wfa flowers dmcc checkout mena fz llc duba ',\n",
       "       '   amazoncomnutyj seattle ', '   amazoncomywbjf seattle ',\n",
       "       '   amazoncombddk seattle ', '   trader joes     ',\n",
       "       ' tst trattoria pie  diego  ', ' sq forum blues   riverside ',\n",
       "       '   amazoncomshexh seattle ', '   amazoncomevra seattle ',\n",
       "       '   amazoncomcvav seattle ',\n",
       "       '   samsungelectronics challenger road ridgefield pa nj',\n",
       "       ' tst rock reillys    ', ' greco snewyorkpizzeria hollywood  ',\n",
       "       ' tst chocolate bash spectrum center ',\n",
       "       ' regal la live  olympic boule ', ' mint mobile scenic   ',\n",
       "       '   ross stores   ',\n",
       "       ' bill payment jjmersww bp amazoncom amazoncomnxcp us',\n",
       "       ' hogshead pub universal city universal ', '   uo universal cty ',\n",
       "       ' cheesecake santa anita baldwin  ', ' la memorial coliseum c   ',\n",
       "       ' sq freshen ram lane  mateo  ',\n",
       "       ' bill payment ooizesp bp amazoncom amazoncomte us',\n",
       "       ' bill payment fakdesbgbc bp amazoncom amazoncompnehr us',\n",
       "       ' bill payment tlpjcqu bp amazoncom amazoncombxhx us',\n",
       "       ' yard house  olympic   ', ' fat burger    ang ',\n",
       "       ' ach venmo  verifybank  venmo', '   hm  stre   ',\n",
       "       '  ates  amazoncomj seattle ',\n",
       "       ' bill payment tcebbbp bp amazoncom amazoncomnbq us',\n",
       "       ' jh bazaar vermont    c ', '   dollar tr venice   '], dtype=object)"
      ]
     },
     "execution_count": 23,
     "metadata": {},
     "output_type": "execute_result"
    }
   ],
   "source": [
    "check_if_cat_correct(final_df,'Shopping & Groceries') "
   ]
  },
  {
   "attachments": {},
   "cell_type": "markdown",
   "metadata": {},
   "source": [
    "### Fix some of the categories"
   ]
  },
  {
   "cell_type": "code",
   "execution_count": 24,
   "metadata": {},
   "outputs": [
    {
     "data": {
      "text/html": [
       "<div>\n",
       "<style scoped>\n",
       "    .dataframe tbody tr th:only-of-type {\n",
       "        vertical-align: middle;\n",
       "    }\n",
       "\n",
       "    .dataframe tbody tr th {\n",
       "        vertical-align: top;\n",
       "    }\n",
       "\n",
       "    .dataframe thead th {\n",
       "        text-align: right;\n",
       "    }\n",
       "</style>\n",
       "<table border=\"1\" class=\"dataframe\">\n",
       "  <thead>\n",
       "    <tr style=\"text-align: right;\">\n",
       "      <th></th>\n",
       "      <th>Posting Date</th>\n",
       "      <th>Transaction Type</th>\n",
       "      <th>Amount</th>\n",
       "      <th>Description</th>\n",
       "      <th>Transaction Category</th>\n",
       "    </tr>\n",
       "  </thead>\n",
       "  <tbody>\n",
       "    <tr>\n",
       "      <th>102</th>\n",
       "      <td>1/19/2022</td>\n",
       "      <td>Debit</td>\n",
       "      <td>-9.80</td>\n",
       "      <td>fedex airways  memphis</td>\n",
       "      <td>Miscellaneous</td>\n",
       "    </tr>\n",
       "    <tr>\n",
       "      <th>275</th>\n",
       "      <td>11/18/2022</td>\n",
       "      <td>Debit</td>\n",
       "      <td>-173.41</td>\n",
       "      <td>emirates e   fl new york   ticket</td>\n",
       "      <td>Miscellaneous</td>\n",
       "    </tr>\n",
       "  </tbody>\n",
       "</table>\n",
       "</div>"
      ],
      "text/plain": [
       "    Posting Date Transaction Type  Amount                         Description  \\\n",
       "102    1/19/2022            Debit   -9.80             fedex airways  memphis    \n",
       "275   11/18/2022            Debit -173.41   emirates e   fl new york   ticket   \n",
       "\n",
       "    Transaction Category  \n",
       "102        Miscellaneous  \n",
       "275        Miscellaneous  "
      ]
     },
     "execution_count": 24,
     "metadata": {},
     "output_type": "execute_result"
    }
   ],
   "source": [
    "final_df.loc[final_df['Transaction Category'] == 'Miscellaneous']"
   ]
  },
  {
   "cell_type": "code",
   "execution_count": 25,
   "metadata": {},
   "outputs": [],
   "source": [
    "# shift this to Transportation\n",
    "final_df.at[275,\"Transaction Category\"] = \"Transportation\""
   ]
  },
  {
   "cell_type": "code",
   "execution_count": 45,
   "metadata": {},
   "outputs": [],
   "source": [
    "# shift Laundry transactions to Recreation\n",
    "for i in [\"disneyland tickets harbor\",\"usc ticket officereta trousdale pkwy\",\"polo factory store com citadel drive c\",\"athena parking hill    c\",\"artisan imports  diego   diego \",\"regal\",\"cinema\"]:\n",
    "    final_df.loc[final_df['Description'].str.contains(re.escape(i), case=False),'Transaction Category'] = 'Recreation'"
   ]
  },
  {
   "cell_type": "code",
   "execution_count": 27,
   "metadata": {},
   "outputs": [],
   "source": [
    "for i in [\"mint\"]:\n",
    "    final_df.loc[final_df['Description'].str.contains(re.escape(i), case=False),'Transaction Category'] = 'Miscellaneous'"
   ]
  },
  {
   "cell_type": "code",
   "execution_count": 46,
   "metadata": {},
   "outputs": [
    {
     "data": {
      "text/html": [
       "<div>\n",
       "<style scoped>\n",
       "    .dataframe tbody tr th:only-of-type {\n",
       "        vertical-align: middle;\n",
       "    }\n",
       "\n",
       "    .dataframe tbody tr th {\n",
       "        vertical-align: top;\n",
       "    }\n",
       "\n",
       "    .dataframe thead th {\n",
       "        text-align: right;\n",
       "    }\n",
       "</style>\n",
       "<table border=\"1\" class=\"dataframe\">\n",
       "  <thead>\n",
       "    <tr style=\"text-align: right;\">\n",
       "      <th></th>\n",
       "      <th>Posting Date</th>\n",
       "      <th>Transaction Type</th>\n",
       "      <th>Amount</th>\n",
       "      <th>Description</th>\n",
       "      <th>Transaction Category</th>\n",
       "    </tr>\n",
       "  </thead>\n",
       "  <tbody>\n",
       "    <tr>\n",
       "      <th>0</th>\n",
       "      <td>4/25/2023</td>\n",
       "      <td>Debit</td>\n",
       "      <td>19.00</td>\n",
       "      <td>target  hoove</td>\n",
       "      <td>Shopping &amp; Groceries</td>\n",
       "    </tr>\n",
       "    <tr>\n",
       "      <th>1</th>\n",
       "      <td>4/24/2023</td>\n",
       "      <td>Debit</td>\n",
       "      <td>29.31</td>\n",
       "      <td>dominos    angel</td>\n",
       "      <td>Food &amp; Dining</td>\n",
       "    </tr>\n",
       "    <tr>\n",
       "      <th>2</th>\n",
       "      <td>4/20/2023</td>\n",
       "      <td>Debit</td>\n",
       "      <td>6.18</td>\n",
       "      <td>target store</td>\n",
       "      <td>Shopping &amp; Groceries</td>\n",
       "    </tr>\n",
       "    <tr>\n",
       "      <th>3</th>\n",
       "      <td>4/11/2023</td>\n",
       "      <td>Debit</td>\n",
       "      <td>8.95</td>\n",
       "      <td>target  hoove</td>\n",
       "      <td>Shopping &amp; Groceries</td>\n",
       "    </tr>\n",
       "    <tr>\n",
       "      <th>4</th>\n",
       "      <td>4/11/2023</td>\n",
       "      <td>Debit</td>\n",
       "      <td>17.49</td>\n",
       "      <td>dominos</td>\n",
       "      <td>Food &amp; Dining</td>\n",
       "    </tr>\n",
       "  </tbody>\n",
       "</table>\n",
       "</div>"
      ],
      "text/plain": [
       "  Posting Date Transaction Type  Amount            Description  \\\n",
       "0    4/25/2023            Debit   19.00       target  hoove      \n",
       "1    4/24/2023            Debit   29.31      dominos    angel    \n",
       "2    4/20/2023            Debit    6.18     target store         \n",
       "3    4/11/2023            Debit    8.95       target  hoove      \n",
       "4    4/11/2023            Debit   17.49             dominos      \n",
       "\n",
       "   Transaction Category  \n",
       "0  Shopping & Groceries  \n",
       "1         Food & Dining  \n",
       "2  Shopping & Groceries  \n",
       "3  Shopping & Groceries  \n",
       "4         Food & Dining  "
      ]
     },
     "execution_count": 46,
     "metadata": {},
     "output_type": "execute_result"
    }
   ],
   "source": [
    "final_df.head()"
   ]
  },
  {
   "cell_type": "code",
   "execution_count": 41,
   "metadata": {},
   "outputs": [],
   "source": [
    "# Add an amount for tuition from an external source\n",
    "new_entry = {'Posting Date': '1/4/2023', 'Transaction Type' : 'Debit','Amount': 19882.08,'Description': 'ach univ of so cal','Transaction Category': 'Tuition & Rent'}\n",
    "final_df = pd.concat([final_df, pd.DataFrame([new_entry])], ignore_index=True)"
   ]
  },
  {
   "cell_type": "code",
   "execution_count": 36,
   "metadata": {},
   "outputs": [],
   "source": [
    "# convert \"Amount\" to positive\n",
    "final_df['Amount'] = final_df['Amount'].abs()"
   ]
  },
  {
   "cell_type": "code",
   "execution_count": 48,
   "metadata": {},
   "outputs": [
    {
     "data": {
      "text/plain": [
       "Shopping & Groceries    407\n",
       "Food & Dining           160\n",
       "Transportation           49\n",
       "Tuition & Rent           30\n",
       "Laundry                  21\n",
       "Recreation               16\n",
       "Miscellaneous             4\n",
       "Name: Transaction Category, dtype: int64"
      ]
     },
     "execution_count": 48,
     "metadata": {},
     "output_type": "execute_result"
    }
   ],
   "source": [
    "final_df[\"Transaction Category\"].value_counts()"
   ]
  },
  {
   "cell_type": "code",
   "execution_count": 49,
   "metadata": {},
   "outputs": [],
   "source": [
    "final_df.to_csv(\"Expenses_v3.csv\", index=False)"
   ]
  },
  {
   "attachments": {},
   "cell_type": "markdown",
   "metadata": {},
   "source": [
    "## References\n",
    "https://towardsdatascience.com/categorize-free-text-bank-transaction-descriptions-using-bert-44c9cc87735b"
   ]
  }
 ],
 "metadata": {
  "kernelspec": {
   "display_name": "uscdash",
   "language": "python",
   "name": "uscdash"
  },
  "language_info": {
   "codemirror_mode": {
    "name": "ipython",
    "version": 3
   },
   "file_extension": ".py",
   "mimetype": "text/x-python",
   "name": "python",
   "nbconvert_exporter": "python",
   "pygments_lexer": "ipython3",
   "version": "3.10.10"
  },
  "orig_nbformat": 4
 },
 "nbformat": 4,
 "nbformat_minor": 2
}
